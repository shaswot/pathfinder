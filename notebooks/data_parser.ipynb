{
 "cells": [
  {
   "cell_type": "code",
   "execution_count": 1,
   "id": "7367ab39-2e68-48dd-9586-89bd8ccefcd7",
   "metadata": {},
   "outputs": [],
   "source": [
    "import os\n",
    "import sys\n",
    "import git\n",
    "import pathlib"
   ]
  },
  {
   "cell_type": "code",
   "execution_count": 2,
   "id": "3561d0d9-bfff-480e-98e6-2d88a4dc6b88",
   "metadata": {},
   "outputs": [
    {
     "name": "stdout",
     "output_type": "stream",
     "text": [
      "/repos/pathfinder\n"
     ]
    }
   ],
   "source": [
    "PROJ_ROOT_PATH = pathlib.Path(git.Repo('.', search_parent_directories=True).working_tree_dir)\n",
    "PROJ_ROOT =  str(PROJ_ROOT_PATH)\n",
    "if PROJ_ROOT not in sys.path:\n",
    "    sys.path.append(PROJ_ROOT)\n",
    "print(PROJ_ROOT)  "
   ]
  },
  {
   "cell_type": "code",
   "execution_count": 3,
   "id": "7f9c69dd-4ad5-41be-ae55-98bc6f83f581",
   "metadata": {},
   "outputs": [],
   "source": [
    "import numpy as np"
   ]
  },
  {
   "cell_type": "code",
   "execution_count": 4,
   "id": "fb3fc0b1-7091-4888-9fd6-6dbe360f6a4d",
   "metadata": {},
   "outputs": [],
   "source": [
    "data_folder = pathlib.Path(PROJ_ROOT, \"data\")"
   ]
  },
  {
   "cell_type": "code",
   "execution_count": 5,
   "id": "d2131ff3-44f2-4a1a-afbe-1214e4d9d75b",
   "metadata": {},
   "outputs": [],
   "source": [
    "max_board_size=15\n",
    "file_list=[]\n",
    "files = file_list if file_list else os.listdir(data_folder)\n",
    "for f in files:\n",
    "    if f.endswith(\".txt\"):\n",
    "        levels = open(pathlib.Path(data_folder, f), \"r\").read().splitlines()\n",
    "        for level in levels:\n",
    "            problem_str_,solution_str = level.split('=')\n",
    "            board_size_str, problem_str = problem_str_.split(\":\")\n",
    "            x,y = board_size_str.split(\"x\")\n",
    "            if int(x) == int(y):\n",
    "                board_size = int(x)\n",
    "            else:\n",
    "                print(f\"Bad board size: {board_size_str}\")\n",
    "            solution = [int(num) for num in solution_str.split(',')]"
   ]
  },
  {
   "cell_type": "code",
   "execution_count": 6,
   "id": "56044aa6-f526-4399-935d-6a6b4f4ac003",
   "metadata": {},
   "outputs": [
    {
     "data": {
      "text/plain": [
       "array([[5, 5, 5, 8, 8, 8, 8, 3, 2],\n",
       "       [5, 1, 5, 8, 3, 3, 3, 3, 2],\n",
       "       [5, 1, 5, 8, 3, 2, 2, 2, 2],\n",
       "       [1, 1, 5, 3, 3, 2, 6, 6, 6],\n",
       "       [1, 2, 5, 2, 2, 2, 6, 7, 6],\n",
       "       [1, 2, 5, 2, 9, 9, 6, 7, 6],\n",
       "       [1, 2, 5, 2, 2, 9, 6, 7, 6],\n",
       "       [1, 2, 5, 5, 2, 9, 9, 7, 4],\n",
       "       [1, 2, 2, 2, 2, 4, 4, 4, 4]])"
      ]
     },
     "execution_count": 6,
     "metadata": {},
     "output_type": "execute_result"
    }
   ],
   "source": [
    "np.array(solution).reshape(board_size,board_size)"
   ]
  },
  {
   "cell_type": "code",
   "execution_count": 16,
   "id": "84b83152-bb08-48da-8462-45bac93d885d",
   "metadata": {},
   "outputs": [],
   "source": [
    "def find_paths(matrix, color):\n",
    "    paths = []\n",
    "    for i in range(matrix.shape[0]):\n",
    "        for j in range(matrix.shape[1]):\n",
    "            if matrix[i, j] == color:\n",
    "                path = [(i, j)]\n",
    "                explore_path(matrix, i, j, color, path)\n",
    "                paths.append(path)\n",
    "    return paths[0]\n",
    "\n",
    "def explore_path(matrix, i, j, color, path):\n",
    "    matrix[i, j] = -1  # Mark visited\n",
    "    directions = [(-1, 0), (1, 0), (0, -1), (0, 1)]  # Up, down, left, right\n",
    "\n",
    "    for dx, dy in directions:\n",
    "        ni, nj = i + dx, j + dy\n",
    "        if 0 <= ni < matrix.shape[0] and 0 <= nj < matrix.shape[1] and matrix[ni, nj] == color:\n",
    "            path.append((ni, nj))\n",
    "            explore_path(matrix, ni, nj, color, path)"
   ]
  },
  {
   "cell_type": "code",
   "execution_count": 17,
   "id": "c4e86610-bc62-4520-bf3e-2d8fa199ec22",
   "metadata": {},
   "outputs": [],
   "source": [
    "# Example for red (color 1)\n",
    "solution_matrix = np.array(solution).reshape(board_size,board_size)\n",
    "no_of_colors = len(set(solution))\n",
    "solution_paths = []\n",
    "for i in range(no_of_colors):\n",
    "    path = find_paths(solution_matrix, i+1)\n",
    "    solution_paths.append(path)"
   ]
  },
  {
   "cell_type": "code",
   "execution_count": 25,
   "id": "d88c70fe-bb24-45b5-97b8-f5dc02410869",
   "metadata": {},
   "outputs": [
    {
     "name": "stdout",
     "output_type": "stream",
     "text": [
      "[(1, 1), (2, 1), (3, 1), (3, 0), (4, 0), (5, 0), (6, 0), (7, 0), (8, 0)]\n",
      "[(0, 8), (1, 8), (2, 8), (2, 7), (2, 6), (2, 5), (3, 5), (4, 5), (4, 4), (4, 3), (5, 3), (6, 3), (6, 4), (7, 4), (8, 4), (8, 3), (8, 2), (8, 1), (7, 1), (6, 1), (5, 1), (4, 1)]\n",
      "[(0, 7), (1, 7), (1, 6), (1, 5), (1, 4), (2, 4), (3, 4), (3, 3)]\n",
      "[(7, 8), (8, 8), (8, 7), (8, 6), (8, 5)]\n",
      "[(0, 0), (1, 0), (2, 0), (0, 1), (0, 2), (1, 2), (2, 2), (3, 2), (4, 2), (5, 2), (6, 2), (7, 2), (7, 3)]\n",
      "[(3, 6), (4, 6), (5, 6), (6, 6), (3, 7), (3, 8), (4, 8), (5, 8), (6, 8)]\n",
      "[(4, 7), (5, 7), (6, 7), (7, 7)]\n",
      "[(0, 3), (1, 3), (2, 3), (0, 4), (0, 5), (0, 6)]\n",
      "[(5, 4), (5, 5), (6, 5), (7, 5), (7, 6)]\n"
     ]
    },
    {
     "data": {
      "text/plain": [
       "[None, None, None, None, None, None, None, None, None]"
      ]
     },
     "execution_count": 25,
     "metadata": {},
     "output_type": "execute_result"
    }
   ],
   "source": [
    "[print(paths) for paths in solution_paths]"
   ]
  },
  {
   "cell_type": "code",
   "execution_count": null,
   "id": "dcec483d-1384-488b-8eee-9b237e1763be",
   "metadata": {},
   "outputs": [],
   "source": []
  }
 ],
 "metadata": {
  "kernelspec": {
   "display_name": "Python 3 (ipykernel)",
   "language": "python",
   "name": "python3"
  },
  "language_info": {
   "codemirror_mode": {
    "name": "ipython",
    "version": 3
   },
   "file_extension": ".py",
   "mimetype": "text/x-python",
   "name": "python",
   "nbconvert_exporter": "python",
   "pygments_lexer": "ipython3",
   "version": "3.10.12"
  }
 },
 "nbformat": 4,
 "nbformat_minor": 5
}
