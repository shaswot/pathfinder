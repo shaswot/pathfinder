{
 "cells": [
  {
   "cell_type": "code",
   "execution_count": 1,
   "id": "7cc950bf-55cd-40b7-a6b4-594f53d8a24c",
   "metadata": {},
   "outputs": [],
   "source": [
    "import os\n",
    "import sys\n",
    "import git\n",
    "import pathlib"
   ]
  },
  {
   "cell_type": "code",
   "execution_count": 2,
   "id": "e5d7bc3a-c434-47fb-94e9-9c674b1b785a",
   "metadata": {},
   "outputs": [
    {
     "name": "stdout",
     "output_type": "stream",
     "text": [
      "/repos/pathfinder\n"
     ]
    }
   ],
   "source": [
    "PROJ_ROOT_PATH = pathlib.Path(git.Repo('.', search_parent_directories=True).working_tree_dir)\n",
    "PROJ_ROOT =  str(PROJ_ROOT_PATH)\n",
    "if PROJ_ROOT not in sys.path:\n",
    "    sys.path.append(PROJ_ROOT)\n",
    "print(PROJ_ROOT)  "
   ]
  },
  {
   "cell_type": "code",
   "execution_count": 3,
   "id": "5d0bed49-0cc4-44ae-bc06-2264d60e6bef",
   "metadata": {},
   "outputs": [],
   "source": [
    "data_folder = pathlib.Path(PROJ_ROOT, \"data\").mkdir(parents=True, exist_ok=True)"
   ]
  },
  {
   "cell_type": "code",
   "execution_count": 4,
   "id": "31e8d898-24f9-410a-8e5b-75819098c711",
   "metadata": {},
   "outputs": [],
   "source": [
    "import requests\n",
    "from PIL import Image\n",
    "from io import BytesIO\n",
    "import os\n",
    "import numpy as np\n",
    "import matplotlib.pyplot as plt\n",
    "from skimage.color import rgb2gray\n",
    "from skimage.feature import peak\n",
    "from skimage.feature import corner_fast, corner_peaks"
   ]
  },
  {
   "cell_type": "code",
   "execution_count": 5,
   "id": "f75db40c-4675-4342-9f25-f9763ed68d28",
   "metadata": {},
   "outputs": [],
   "source": [
    "x_pixel_for_line_detection = 10"
   ]
  },
  {
   "cell_type": "code",
   "execution_count": 6,
   "id": "41ead417-6325-4bfd-a2ab-045bfbf864dc",
   "metadata": {},
   "outputs": [],
   "source": [
    "def url_to_array(url):\n",
    "  try:\n",
    "    if url.startswith('http'):\n",
    "      r = requests.get(url, headers={'user-agent': 'Mozilla/5.0 (Windows NT 10.0; Win64; x64) AppleWebKit/537.36 (KHTML, like Gecko) Chrome/58.0.3029.110 Safari/537.36'})\n",
    "      im = Image.open(BytesIO(r.content))\n",
    "    else:\n",
    "        im = Image.open(url)\n",
    "    return np.array(im)\n",
    "  except Exception as e:\n",
    "    print('invalid image at '+url)"
   ]
  },
  {
   "cell_type": "code",
   "execution_count": 7,
   "id": "0ead7cb6-4e00-4fc0-bd71-0abdfa862d0a",
   "metadata": {},
   "outputs": [],
   "source": [
    "def thicken_line(line, thickness=10):\n",
    "  return np.tile(line,(thickness,1,1))"
   ]
  },
  {
   "cell_type": "code",
   "execution_count": 8,
   "id": "0df73da6-7980-4c60-a40e-55696282d302",
   "metadata": {},
   "outputs": [],
   "source": [
    "def get_line_peaks(line,min_distance=3,threshold_rel=0.5):\n",
    "  \n",
    "  def eliminate_diffs(sample,min_distance):  # we specified min_distance for peak_local_max but fails if we have flat peaks, so need this function\n",
    "    sample = np.sort(sample)\n",
    "    diff = np.diff(sample)\n",
    "    indices_to_delete = np.where(diff<min_distance)[0]+1\n",
    "    return np.delete(sample,indices_to_delete)\n",
    "\n",
    "  sample = rgb2gray(thicken_line(line,thickness=1)).squeeze()\n",
    "  peaks = peak.peak_local_max(sample,min_distance=min_distance,threshold_rel=threshold_rel)\n",
    "  return eliminate_diffs(peaks.squeeze(),min_distance)"
   ]
  },
  {
   "cell_type": "code",
   "execution_count": 9,
   "id": "5d75a82f-ec7b-46ce-ab01-91d185738760",
   "metadata": {},
   "outputs": [],
   "source": [
    "def get_array_centres(array):\n",
    "  array = np.sort(array)\n",
    "  return (array[:-1]+np.diff(array)*0.5).astype(int)"
   ]
  },
  {
   "cell_type": "code",
   "execution_count": 10,
   "id": "92e8248e-1d24-4864-9488-55e829a54840",
   "metadata": {},
   "outputs": [],
   "source": [
    "def get_y_pixel_for_line_detection(img,x_pixel_for_line_detection,pixels_after_line=3):\n",
    "  vertical_line_sample = img[:,x_pixel_for_line_detection]\n",
    "  peaks = get_line_peaks(vertical_line_sample)\n",
    "  return peaks[0]+pixels_after_line"
   ]
  },
  {
   "cell_type": "code",
   "execution_count": 11,
   "id": "35530717-9fee-4529-bf5d-15e1f1b81098",
   "metadata": {},
   "outputs": [],
   "source": [
    "def get_centroids(img):\n",
    "  y_pixel_for_line_detection = get_y_pixel_for_line_detection(img,x_pixel_for_line_detection)\n",
    "  grid_x = get_line_peaks(img[y_pixel_for_line_detection])\n",
    "  grid_y = get_line_peaks(img[:,x_pixel_for_line_detection])\n",
    "  x_centroids = get_array_centres(grid_x)\n",
    "  y_centroids = get_array_centres(grid_y)\n",
    "  return x_centroids,y_centroids"
   ]
  },
  {
   "cell_type": "code",
   "execution_count": 12,
   "id": "75271742-a4b9-4787-bbdf-3166beb712eb",
   "metadata": {},
   "outputs": [],
   "source": [
    "def get_centroid_values(img):\n",
    "  x_centroids,y_centroids = get_centroids(img)\n",
    "  return img[np.ix_(y_centroids,x_centroids)]"
   ]
  },
  {
   "cell_type": "code",
   "execution_count": 13,
   "id": "25c6d65c-ec6d-42d7-aea7-62ba3d070ae0",
   "metadata": {},
   "outputs": [],
   "source": [
    "def get_grid_square_dark_peaks(img):\n",
    "  y_pixel_for_line_detection = get_y_pixel_for_line_detection(img,x_pixel_for_line_detection)\n",
    "  grid_x = get_line_peaks(img[y_pixel_for_line_detection])\n",
    "  grid_y = get_line_peaks(img[:,x_pixel_for_line_detection])\n",
    "  output = np.zeros((len(grid_y)-1,len(grid_x)-1))\n",
    "  for ix in range(len(grid_x)-1):\n",
    "    for iy in range(len(grid_y)-1):\n",
    "      sub_img = img[grid_y[iy]:grid_y[iy+1],grid_x[ix]:grid_x[ix+1]]\n",
    "      sub_img = rgb2gray(sub_img)\n",
    "      histogram,bin_edges = np.histogram(sub_img, bins=256, range=(0, 1))\n",
    "      black_index = histogram[0]\n",
    "      output[iy,ix] = black_index\n",
    "  return output"
   ]
  },
  {
   "cell_type": "code",
   "execution_count": 14,
   "id": "e2870383-505d-4112-9532-fd911ff67094",
   "metadata": {},
   "outputs": [],
   "source": [
    "def smart_corners(img): # doesn't perform nearly as reliably\n",
    "  img = rgb2gray(img[128:441])\n",
    "  plt.imshow(img)\n",
    "  plt.show()\n",
    "  a = corner_peaks(corner_fast(img, 10), min_distance=3)\n",
    "  return a"
   ]
  },
  {
   "cell_type": "code",
   "execution_count": 15,
   "id": "cb00c80f-5b25-4033-bf89-59c7c70a79b1",
   "metadata": {},
   "outputs": [],
   "source": [
    "def generate_solution_from_image(img,start_index=1):\n",
    "  shape = get_centroid_values(img).shape\n",
    "  colors = np.unique(get_centroid_values(img).reshape(shape[0]*shape[1],shape[2]),axis=0)\n",
    "  solution = np.zeros((shape[0],shape[1]))\n",
    "  for i,color in enumerate(colors):\n",
    "    solution = solution + i*(get_centroid_values(img) == colors[i]).all(axis=2)\n",
    "  return solution.astype(int)+start_index"
   ]
  },
  {
   "cell_type": "code",
   "execution_count": 16,
   "id": "c82ca9ad-6cf5-4f33-91b8-fb8b468d3473",
   "metadata": {},
   "outputs": [],
   "source": [
    "def generate_problem_and_solution_from_image(img):\n",
    "  dark_peak_values = get_grid_square_dark_peaks(img)\n",
    "  average = np.average(dark_peak_values)\n",
    "  solution = generate_solution_from_image(img)\n",
    "  return solution * (dark_peak_values < average), solution"
   ]
  },
  {
   "cell_type": "code",
   "execution_count": 17,
   "id": "a1b177ed-6743-445b-884f-6cd7099e2be3",
   "metadata": {},
   "outputs": [],
   "source": [
    "def export_to_file(url_list, output_file):\n",
    "\n",
    "  def array_to_string(array):\n",
    "    return np.array2string(array,separator=',',max_line_width=99999999)[1:-1]\n",
    "  \n",
    "  f = open(output_file, \"w\")\n",
    "  for url in url_list:\n",
    "    try:\n",
    "      img = url_to_array(url)\n",
    "      problem,solution = generate_problem_and_solution_from_image(img)\n",
    "      shape = problem.shape\n",
    "      string_to_write = str(shape[0])+'x'+str(shape[1])+':'+array_to_string(problem.flatten())+'='+array_to_string(solution.flatten())\n",
    "      f.write(string_to_write)\n",
    "      f.write('\\n')\n",
    "    except Exception as e:\n",
    "      print(url,'-------',e)\n",
    "  f.close()"
   ]
  },
  {
   "cell_type": "code",
   "execution_count": 18,
   "id": "f0cef944-9ad4-4dc4-96dc-45736adbe690",
   "metadata": {},
   "outputs": [],
   "source": [
    "def url_list_generator(packs):\n",
    "  url_list = []\n",
    "  url_base = 'https://flowfreesolutions.com/solution-pictures/flow/'\n",
    "  for pack in packs:\n",
    "    start = pack[1] if len(pack)>2 else 1 \n",
    "    end = pack[2]+1 if len(pack)>2 else pack[1]+1\n",
    "    for i in range(start,end):\n",
    "      string = url_base+pack[0]+'/flow-'+pack[0]+'-'+str(i)+'.png'\n",
    "      url_list.append(string)\n",
    "  return url_list"
   ]
  },
  {
   "cell_type": "code",
   "execution_count": 19,
   "id": "47452e3a-a99f-4d06-9d55-50cfd81fea8b",
   "metadata": {},
   "outputs": [],
   "source": [
    "def local_file_list_generator(path):\n",
    "  files = os.listdir(path)\n",
    "  return [path+f for f in files]"
   ]
  },
  {
   "cell_type": "code",
   "execution_count": 20,
   "id": "9acc9426-d767-4e3f-b60e-2e3bc3f713d6",
   "metadata": {},
   "outputs": [],
   "source": [
    "def string_to_matrices(string, max_board_size=25):\n",
    "\n",
    "  def string_to_matrix(string,size_x,size_y):\n",
    "    array = np.array([int(elem) for elem in string.split(',')])\n",
    "    array = array.reshape(size_x,size_y)\n",
    "    array = np.pad(array,((0,max_board_size-size_x),(0,max_board_size-size_y)))\n",
    "    return array\n",
    "\n",
    "  size_split = string.split(':')\n",
    "  board_size = size_split.pop(0).split('x')\n",
    "  size_x,size_y = int(board_size[0]),int(board_size[1])\n",
    "  problem,solution = size_split[0].split('=')\n",
    "  problem,solution = string_to_matrix(problem,size_x,size_y),string_to_matrix(solution,size_x,size_y)\n",
    "  return problem,solution"
   ]
  },
  {
   "cell_type": "code",
   "execution_count": 21,
   "id": "e3cd6a84-cc64-436a-a62f-20220b00290c",
   "metadata": {},
   "outputs": [],
   "source": [
    "##### Parse files\n",
    "def parse_saved_files(max_board_size=25,file_list=[]):\n",
    "  files = file_list if file_list else ['data/image_parser_output.txt']\n",
    "  problems = []\n",
    "  solutions = []\n",
    "  for f in files:\n",
    "    levels = open(f, \"r\").read().splitlines()\n",
    "    for level in levels:\n",
    "      problem,solution = string_to_matrices(level,max_board_size=max_board_size)\n",
    "      problems.append(problem)\n",
    "      solutions.append(solution)\n",
    "  return problems,solutions"
   ]
  },
  {
   "cell_type": "code",
   "execution_count": 24,
   "id": "5b44b631-54a6-481f-80ee-b2e7bcbb26ba",
   "metadata": {},
   "outputs": [],
   "source": [
    "packs = [('regular',149,150)]\n",
    "url_list = url_list_generator(packs)\n",
    "output_file = pathlib.Path(PROJ_ROOT, \"data\", \"image_parser_output.txt\")\n",
    "export_to_file(url_list, output_file)"
   ]
  },
  {
   "cell_type": "code",
   "execution_count": null,
   "id": "7d138622-5b2c-42bd-b22d-f8470f220e70",
   "metadata": {},
   "outputs": [],
   "source": []
  }
 ],
 "metadata": {
  "kernelspec": {
   "display_name": "Python 3 (ipykernel)",
   "language": "python",
   "name": "python3"
  },
  "language_info": {
   "codemirror_mode": {
    "name": "ipython",
    "version": 3
   },
   "file_extension": ".py",
   "mimetype": "text/x-python",
   "name": "python",
   "nbconvert_exporter": "python",
   "pygments_lexer": "ipython3",
   "version": "3.10.12"
  }
 },
 "nbformat": 4,
 "nbformat_minor": 5
}
