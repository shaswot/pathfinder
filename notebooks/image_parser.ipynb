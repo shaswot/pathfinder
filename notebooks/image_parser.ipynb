{
 "cells": [
  {
   "cell_type": "code",
   "execution_count": 1,
   "id": "7cc950bf-55cd-40b7-a6b4-594f53d8a24c",
   "metadata": {},
   "outputs": [],
   "source": [
    "import os\n",
    "import sys\n",
    "import git\n",
    "import pathlib"
   ]
  },
  {
   "cell_type": "code",
   "execution_count": 2,
   "id": "e5d7bc3a-c434-47fb-94e9-9c674b1b785a",
   "metadata": {},
   "outputs": [
    {
     "name": "stdout",
     "output_type": "stream",
     "text": [
      "/repos/pathfinder\n"
     ]
    }
   ],
   "source": [
    "PROJ_ROOT_PATH = pathlib.Path(git.Repo('.', search_parent_directories=True).working_tree_dir)\n",
    "PROJ_ROOT =  str(PROJ_ROOT_PATH)\n",
    "if PROJ_ROOT not in sys.path:\n",
    "    sys.path.append(PROJ_ROOT)\n",
    "print(PROJ_ROOT)  "
   ]
  },
  {
   "cell_type": "code",
   "execution_count": 3,
   "id": "5d0bed49-0cc4-44ae-bc06-2264d60e6bef",
   "metadata": {},
   "outputs": [],
   "source": [
    "data_folder = pathlib.Path(PROJ_ROOT, \"data\").mkdir(parents=True, exist_ok=True)"
   ]
  },
  {
   "cell_type": "code",
   "execution_count": 4,
   "id": "31e8d898-24f9-410a-8e5b-75819098c711",
   "metadata": {},
   "outputs": [],
   "source": [
    "import requests\n",
    "from PIL import Image\n",
    "from io import BytesIO\n",
    "import os\n",
    "import numpy as np\n",
    "import matplotlib.pyplot as plt\n",
    "from skimage.color import rgb2gray\n",
    "from skimage.feature import peak\n",
    "from skimage.feature import corner_fast, corner_peaks"
   ]
  },
  {
   "cell_type": "code",
   "execution_count": 5,
   "id": "f75db40c-4675-4342-9f25-f9763ed68d28",
   "metadata": {},
   "outputs": [],
   "source": [
    "x_pixel_for_line_detection = 10"
   ]
  },
  {
   "cell_type": "code",
   "execution_count": 6,
   "id": "41ead417-6325-4bfd-a2ab-045bfbf864dc",
   "metadata": {},
   "outputs": [],
   "source": [
    "def url_to_array(url):\n",
    "  try:\n",
    "    if url.startswith('http'):\n",
    "      r = requests.get(url, headers={'user-agent': 'Mozilla/5.0 (Windows NT 10.0; Win64; x64) AppleWebKit/537.36 (KHTML, like Gecko) Chrome/58.0.3029.110 Safari/537.36'})\n",
    "      im = Image.open(BytesIO(r.content))\n",
    "    else:\n",
    "        im = Image.open(url)\n",
    "    return np.array(im)\n",
    "  except Exception as e:\n",
    "    print('invalid image at '+url)"
   ]
  },
  {
   "cell_type": "code",
   "execution_count": 7,
   "id": "0ead7cb6-4e00-4fc0-bd71-0abdfa862d0a",
   "metadata": {},
   "outputs": [],
   "source": [
    "def thicken_line(line, thickness=10):\n",
    "  return np.tile(line,(thickness,1,1))"
   ]
  },
  {
   "cell_type": "code",
   "execution_count": 8,
   "id": "0df73da6-7980-4c60-a40e-55696282d302",
   "metadata": {},
   "outputs": [],
   "source": [
    "def get_line_peaks(line,min_distance=3,threshold_rel=0.5):\n",
    "  \n",
    "  def eliminate_diffs(sample,min_distance):  # we specified min_distance for peak_local_max but fails if we have flat peaks, so need this function\n",
    "    sample = np.sort(sample)\n",
    "    diff = np.diff(sample)\n",
    "    indices_to_delete = np.where(diff<min_distance)[0]+1\n",
    "    return np.delete(sample,indices_to_delete)\n",
    "\n",
    "  sample = rgb2gray(thicken_line(line,thickness=1)).squeeze()\n",
    "  peaks = peak.peak_local_max(sample,min_distance=min_distance,threshold_rel=threshold_rel)\n",
    "  return eliminate_diffs(peaks.squeeze(),min_distance)"
   ]
  },
  {
   "cell_type": "code",
   "execution_count": 9,
   "id": "5d75a82f-ec7b-46ce-ab01-91d185738760",
   "metadata": {},
   "outputs": [],
   "source": [
    "def get_array_centres(array):\n",
    "  array = np.sort(array)\n",
    "  return (array[:-1]+np.diff(array)*0.5).astype(int)"
   ]
  },
  {
   "cell_type": "code",
   "execution_count": 10,
   "id": "92e8248e-1d24-4864-9488-55e829a54840",
   "metadata": {},
   "outputs": [],
   "source": [
    "def get_y_pixel_for_line_detection(img,x_pixel_for_line_detection,pixels_after_line=3):\n",
    "  vertical_line_sample = img[:,x_pixel_for_line_detection]\n",
    "  peaks = get_line_peaks(vertical_line_sample)\n",
    "  return peaks[0]+pixels_after_line"
   ]
  },
  {
   "cell_type": "code",
   "execution_count": 11,
   "id": "35530717-9fee-4529-bf5d-15e1f1b81098",
   "metadata": {},
   "outputs": [],
   "source": [
    "def get_centroids(img):\n",
    "  y_pixel_for_line_detection = get_y_pixel_for_line_detection(img,x_pixel_for_line_detection)\n",
    "  grid_x = get_line_peaks(img[y_pixel_for_line_detection])\n",
    "  grid_y = get_line_peaks(img[:,x_pixel_for_line_detection])\n",
    "  x_centroids = get_array_centres(grid_x)\n",
    "  y_centroids = get_array_centres(grid_y)\n",
    "  return x_centroids,y_centroids"
   ]
  },
  {
   "cell_type": "code",
   "execution_count": 12,
   "id": "75271742-a4b9-4787-bbdf-3166beb712eb",
   "metadata": {},
   "outputs": [],
   "source": [
    "def get_centroid_values(img):\n",
    "  x_centroids,y_centroids = get_centroids(img)\n",
    "  return img[np.ix_(y_centroids,x_centroids)]"
   ]
  },
  {
   "cell_type": "code",
   "execution_count": 13,
   "id": "25c6d65c-ec6d-42d7-aea7-62ba3d070ae0",
   "metadata": {},
   "outputs": [],
   "source": [
    "def get_grid_square_dark_peaks(img):\n",
    "  y_pixel_for_line_detection = get_y_pixel_for_line_detection(img,x_pixel_for_line_detection)\n",
    "  grid_x = get_line_peaks(img[y_pixel_for_line_detection])\n",
    "  grid_y = get_line_peaks(img[:,x_pixel_for_line_detection])\n",
    "  output = np.zeros((len(grid_y)-1,len(grid_x)-1))\n",
    "  for ix in range(len(grid_x)-1):\n",
    "    for iy in range(len(grid_y)-1):\n",
    "      sub_img = img[grid_y[iy]:grid_y[iy+1],grid_x[ix]:grid_x[ix+1]]\n",
    "      sub_img = rgb2gray(sub_img)\n",
    "      histogram,bin_edges = np.histogram(sub_img, bins=256, range=(0, 1))\n",
    "      black_index = histogram[0]\n",
    "      output[iy,ix] = black_index\n",
    "  return output"
   ]
  },
  {
   "cell_type": "code",
   "execution_count": 20,
   "id": "cb00c80f-5b25-4033-bf89-59c7c70a79b1",
   "metadata": {},
   "outputs": [],
   "source": [
    "def generate_solution_from_image(img,start_index=1):\n",
    "  shape = get_centroid_values(img).shape\n",
    "  colors = np.unique(get_centroid_values(img).reshape(shape[0]*shape[1],shape[2]),axis=0)\n",
    "  solution = np.zeros((shape[0],shape[1]))\n",
    "  for i,color in enumerate(colors):\n",
    "    solution = solution + i*(get_centroid_values(img) == colors[i]).all(axis=2)\n",
    "  return solution.astype(int)+start_index"
   ]
  },
  {
   "cell_type": "code",
   "execution_count": 22,
   "id": "c82ca9ad-6cf5-4f33-91b8-fb8b468d3473",
   "metadata": {},
   "outputs": [],
   "source": [
    "def generate_problem_and_solution_from_image(img):\n",
    "  dark_peak_values = get_grid_square_dark_peaks(img)\n",
    "  average = np.average(dark_peak_values)\n",
    "  solution = generate_solution_from_image(img)\n",
    "  return solution * (dark_peak_values < average), solution"
   ]
  },
  {
   "cell_type": "code",
   "execution_count": 23,
   "id": "48d2cadb-1620-423f-9467-0f386578ab3b",
   "metadata": {
    "jupyter": {
     "source_hidden": true
    }
   },
   "outputs": [],
   "source": [
    "# def export_to_file(url, output_file):\n",
    "\n",
    "#     def array_to_string(array):\n",
    "#         return np.array2string(array,separator=',',max_line_width=99999999)[1:-1]\n",
    "    \n",
    "#     f = open(output_file, \"w\")\n",
    "#     try:\n",
    "#         img = url_to_array(url)\n",
    "#         problem,solution = generate_problem_and_solution_from_image(img)\n",
    "#         shape = problem.shape\n",
    "#         string_to_write = str(shape[0])+'x'+str(shape[1])+':'+array_to_string(problem.flatten())+'='+array_to_string(solution.flatten())\n",
    "#         f.write(string_to_write)\n",
    "#         f.write('\\n')\n",
    "#     except Exception as e:\n",
    "#         print(url,'-------',e)\n",
    "#         f.close()"
   ]
  },
  {
   "cell_type": "code",
   "execution_count": 25,
   "id": "a1b177ed-6743-445b-884f-6cd7099e2be3",
   "metadata": {},
   "outputs": [],
   "source": [
    "def export_to_file(url_list, output_file):\n",
    "\n",
    "    def array_to_string(array):\n",
    "        return np.array2string(array,separator=',',max_line_width=99999999)[1:-1]\n",
    "\n",
    "    f = open(output_file, \"w\")\n",
    "    for url in url_list:\n",
    "        try:\n",
    "            img = url_to_array(url)\n",
    "            problem,solution = generate_problem_and_solution_from_image(img)\n",
    "            shape = problem.shape\n",
    "            string_to_write = str(shape[0])+'x'+str(shape[1])+':'+array_to_string(problem.flatten())+'='+array_to_string(solution.flatten())\n",
    "            f.write(string_to_write)\n",
    "            f.write('\\n')\n",
    "        except Exception as e:\n",
    "            print(url,'-------',e)\n",
    "    f.close()"
   ]
  },
  {
   "cell_type": "code",
   "execution_count": 26,
   "id": "91ed7c40-a252-4f49-9ac6-ea1bb88025ca",
   "metadata": {},
   "outputs": [
    {
     "ename": "AxisError",
     "evalue": "axis -1 is out of bounds for array of dimension 0",
     "output_type": "error",
     "traceback": [
      "\u001b[0;31m---------------------------------------------------------------------------\u001b[0m",
      "\u001b[0;31mAxisError\u001b[0m                                 Traceback (most recent call last)",
      "Cell \u001b[0;32mIn[26], line 2\u001b[0m\n\u001b[1;32m      1\u001b[0m img \u001b[38;5;241m=\u001b[39m url_to_array(\u001b[38;5;124m\"\u001b[39m\u001b[38;5;124mhttps://flowfreesolutions.com/solution-pictures/flow/14mania/flow-14mania-1.png\u001b[39m\u001b[38;5;124m\"\u001b[39m)\n\u001b[0;32m----> 2\u001b[0m solution \u001b[38;5;241m=\u001b[39m \u001b[43mgenerate_solution_from_image\u001b[49m\u001b[43m(\u001b[49m\u001b[43mimg\u001b[49m\u001b[43m)\u001b[49m\n\u001b[1;32m      3\u001b[0m \u001b[38;5;66;03m# # generate_problem_and_solution_from_image(img)\u001b[39;00m\n\u001b[1;32m      4\u001b[0m \u001b[38;5;66;03m# dark_peak_values = get_grid_square_dark_peaks(img)\u001b[39;00m\n\u001b[1;32m      5\u001b[0m \u001b[38;5;66;03m# average = np.average(dark_peak_values)\u001b[39;00m\n\u001b[1;32m      6\u001b[0m \u001b[38;5;66;03m# solution = generate_solution_from_image(img)\u001b[39;00m\n",
      "Cell \u001b[0;32mIn[20], line 2\u001b[0m, in \u001b[0;36mgenerate_solution_from_image\u001b[0;34m(img, start_index)\u001b[0m\n\u001b[1;32m      1\u001b[0m \u001b[38;5;28;01mdef\u001b[39;00m \u001b[38;5;21mgenerate_solution_from_image\u001b[39m(img,start_index\u001b[38;5;241m=\u001b[39m\u001b[38;5;241m1\u001b[39m):\n\u001b[0;32m----> 2\u001b[0m   shape \u001b[38;5;241m=\u001b[39m \u001b[43mget_centroid_values\u001b[49m\u001b[43m(\u001b[49m\u001b[43mimg\u001b[49m\u001b[43m)\u001b[49m\u001b[38;5;241m.\u001b[39mshape\n\u001b[1;32m      3\u001b[0m   colors \u001b[38;5;241m=\u001b[39m np\u001b[38;5;241m.\u001b[39munique(get_centroid_values(img)\u001b[38;5;241m.\u001b[39mreshape(shape[\u001b[38;5;241m0\u001b[39m]\u001b[38;5;241m*\u001b[39mshape[\u001b[38;5;241m1\u001b[39m],shape[\u001b[38;5;241m2\u001b[39m]),axis\u001b[38;5;241m=\u001b[39m\u001b[38;5;241m0\u001b[39m)\n\u001b[1;32m      4\u001b[0m   solution \u001b[38;5;241m=\u001b[39m np\u001b[38;5;241m.\u001b[39mzeros((shape[\u001b[38;5;241m0\u001b[39m],shape[\u001b[38;5;241m1\u001b[39m]))\n",
      "Cell \u001b[0;32mIn[12], line 2\u001b[0m, in \u001b[0;36mget_centroid_values\u001b[0;34m(img)\u001b[0m\n\u001b[1;32m      1\u001b[0m \u001b[38;5;28;01mdef\u001b[39;00m \u001b[38;5;21mget_centroid_values\u001b[39m(img):\n\u001b[0;32m----> 2\u001b[0m   x_centroids,y_centroids \u001b[38;5;241m=\u001b[39m \u001b[43mget_centroids\u001b[49m\u001b[43m(\u001b[49m\u001b[43mimg\u001b[49m\u001b[43m)\u001b[49m\n\u001b[1;32m      3\u001b[0m   \u001b[38;5;28;01mreturn\u001b[39;00m img[np\u001b[38;5;241m.\u001b[39mix_(y_centroids,x_centroids)]\n",
      "Cell \u001b[0;32mIn[11], line 3\u001b[0m, in \u001b[0;36mget_centroids\u001b[0;34m(img)\u001b[0m\n\u001b[1;32m      1\u001b[0m \u001b[38;5;28;01mdef\u001b[39;00m \u001b[38;5;21mget_centroids\u001b[39m(img):\n\u001b[1;32m      2\u001b[0m   y_pixel_for_line_detection \u001b[38;5;241m=\u001b[39m get_y_pixel_for_line_detection(img,x_pixel_for_line_detection)\n\u001b[0;32m----> 3\u001b[0m   grid_x \u001b[38;5;241m=\u001b[39m \u001b[43mget_line_peaks\u001b[49m\u001b[43m(\u001b[49m\u001b[43mimg\u001b[49m\u001b[43m[\u001b[49m\u001b[43my_pixel_for_line_detection\u001b[49m\u001b[43m]\u001b[49m\u001b[43m)\u001b[49m\n\u001b[1;32m      4\u001b[0m   grid_y \u001b[38;5;241m=\u001b[39m get_line_peaks(img[:,x_pixel_for_line_detection])\n\u001b[1;32m      5\u001b[0m   x_centroids \u001b[38;5;241m=\u001b[39m get_array_centres(grid_x)\n",
      "Cell \u001b[0;32mIn[8], line 11\u001b[0m, in \u001b[0;36mget_line_peaks\u001b[0;34m(line, min_distance, threshold_rel)\u001b[0m\n\u001b[1;32m      9\u001b[0m sample \u001b[38;5;241m=\u001b[39m rgb2gray(thicken_line(line,thickness\u001b[38;5;241m=\u001b[39m\u001b[38;5;241m1\u001b[39m))\u001b[38;5;241m.\u001b[39msqueeze()\n\u001b[1;32m     10\u001b[0m peaks \u001b[38;5;241m=\u001b[39m peak\u001b[38;5;241m.\u001b[39mpeak_local_max(sample,min_distance\u001b[38;5;241m=\u001b[39mmin_distance,threshold_rel\u001b[38;5;241m=\u001b[39mthreshold_rel)\n\u001b[0;32m---> 11\u001b[0m \u001b[38;5;28;01mreturn\u001b[39;00m \u001b[43meliminate_diffs\u001b[49m\u001b[43m(\u001b[49m\u001b[43mpeaks\u001b[49m\u001b[38;5;241;43m.\u001b[39;49m\u001b[43msqueeze\u001b[49m\u001b[43m(\u001b[49m\u001b[43m)\u001b[49m\u001b[43m,\u001b[49m\u001b[43mmin_distance\u001b[49m\u001b[43m)\u001b[49m\n",
      "Cell \u001b[0;32mIn[8], line 4\u001b[0m, in \u001b[0;36mget_line_peaks.<locals>.eliminate_diffs\u001b[0;34m(sample, min_distance)\u001b[0m\n\u001b[1;32m      3\u001b[0m \u001b[38;5;28;01mdef\u001b[39;00m \u001b[38;5;21meliminate_diffs\u001b[39m(sample,min_distance):  \u001b[38;5;66;03m# we specified min_distance for peak_local_max but fails if we have flat peaks, so need this function\u001b[39;00m\n\u001b[0;32m----> 4\u001b[0m   sample \u001b[38;5;241m=\u001b[39m \u001b[43mnp\u001b[49m\u001b[38;5;241;43m.\u001b[39;49m\u001b[43msort\u001b[49m\u001b[43m(\u001b[49m\u001b[43msample\u001b[49m\u001b[43m)\u001b[49m\n\u001b[1;32m      5\u001b[0m   diff \u001b[38;5;241m=\u001b[39m np\u001b[38;5;241m.\u001b[39mdiff(sample)\n\u001b[1;32m      6\u001b[0m   indices_to_delete \u001b[38;5;241m=\u001b[39m np\u001b[38;5;241m.\u001b[39mwhere(diff\u001b[38;5;241m<\u001b[39mmin_distance)[\u001b[38;5;241m0\u001b[39m]\u001b[38;5;241m+\u001b[39m\u001b[38;5;241m1\u001b[39m\n",
      "File \u001b[0;32m/usr/local/lib/python3.10/dist-packages/numpy/core/fromnumeric.py:1017\u001b[0m, in \u001b[0;36msort\u001b[0;34m(a, axis, kind, order)\u001b[0m\n\u001b[1;32m   1015\u001b[0m \u001b[38;5;28;01melse\u001b[39;00m:\n\u001b[1;32m   1016\u001b[0m     a \u001b[38;5;241m=\u001b[39m asanyarray(a)\u001b[38;5;241m.\u001b[39mcopy(order\u001b[38;5;241m=\u001b[39m\u001b[38;5;124m\"\u001b[39m\u001b[38;5;124mK\u001b[39m\u001b[38;5;124m\"\u001b[39m)\n\u001b[0;32m-> 1017\u001b[0m \u001b[43ma\u001b[49m\u001b[38;5;241;43m.\u001b[39;49m\u001b[43msort\u001b[49m\u001b[43m(\u001b[49m\u001b[43maxis\u001b[49m\u001b[38;5;241;43m=\u001b[39;49m\u001b[43maxis\u001b[49m\u001b[43m,\u001b[49m\u001b[43m \u001b[49m\u001b[43mkind\u001b[49m\u001b[38;5;241;43m=\u001b[39;49m\u001b[43mkind\u001b[49m\u001b[43m,\u001b[49m\u001b[43m \u001b[49m\u001b[43morder\u001b[49m\u001b[38;5;241;43m=\u001b[39;49m\u001b[43morder\u001b[49m\u001b[43m)\u001b[49m\n\u001b[1;32m   1018\u001b[0m \u001b[38;5;28;01mreturn\u001b[39;00m a\n",
      "\u001b[0;31mAxisError\u001b[0m: axis -1 is out of bounds for array of dimension 0"
     ]
    }
   ],
   "source": [
    "img = url_to_array(\"https://flowfreesolutions.com/solution-pictures/flow/14mania/flow-14mania-1.png\")\n",
    "solution = generate_solution_from_image(img)\n",
    "# generate_problem_and_solution_from_image(img)\n",
    "dark_peak_values = get_grid_square_dark_peaks(img)\n",
    "average = np.average(dark_peak_values)\n",
    "solution = generate_solution_from_image(img)"
   ]
  },
  {
   "cell_type": "code",
   "execution_count": null,
   "id": "94c25896-e7b7-45e8-9bf4-b3aa87a473db",
   "metadata": {},
   "outputs": [],
   "source": []
  },
  {
   "cell_type": "code",
   "execution_count": null,
   "id": "3be4ee18-193a-4357-9af9-3b9b50182797",
   "metadata": {},
   "outputs": [],
   "source": [
    "dfdfg"
   ]
  },
  {
   "cell_type": "code",
   "execution_count": null,
   "id": "ca0ef639-b0a0-4283-9088-1966644da6bf",
   "metadata": {},
   "outputs": [],
   "source": []
  },
  {
   "cell_type": "code",
   "execution_count": null,
   "id": "7db6fad0-8c55-4abb-a744-9b6ea6a1c66f",
   "metadata": {},
   "outputs": [],
   "source": []
  },
  {
   "cell_type": "code",
   "execution_count": null,
   "id": "d247c253-37e6-465d-af5d-8134ba002538",
   "metadata": {},
   "outputs": [],
   "source": []
  },
  {
   "cell_type": "code",
   "execution_count": null,
   "id": "ba5e4c17-de6e-43c2-aebe-ff31587829d9",
   "metadata": {},
   "outputs": [],
   "source": []
  },
  {
   "cell_type": "code",
   "execution_count": null,
   "id": "48f34ae0-b2e1-4787-b02a-d03f2cc848db",
   "metadata": {},
   "outputs": [],
   "source": [
    "def url_list_generator(pack):\n",
    "    url_list = []\n",
    "    url_base = 'https://flowfreesolutions.com/solution-pictures/flow/'\n",
    "    start = pack[1] if len(pack)>2 else 1 \n",
    "    end = pack[2]+1 if len(pack)>2 else pack[1]+1\n",
    "    for i in range(start,end):\n",
    "      string = url_base+pack[0]+'/flow-'+pack[0]+'-'+str(i)+'.png'\n",
    "      url_list.append(string)\n",
    "    return url_list"
   ]
  },
  {
   "cell_type": "code",
   "execution_count": null,
   "id": "f0cef944-9ad4-4dc4-96dc-45736adbe690",
   "metadata": {},
   "outputs": [],
   "source": [
    "# def url_list_generator(packs):\n",
    "#   url_list = []\n",
    "#   url_base = 'https://flowfreesolutions.com/solution-pictures/flow/'\n",
    "#   for pack in packs:\n",
    "#     start = pack[1] if len(pack)>2 else 1 \n",
    "#     end = pack[2]+1 if len(pack)>2 else pack[1]+1\n",
    "#     for i in range(start,end):\n",
    "#       string = url_base+pack[0]+'/flow-'+pack[0]+'-'+str(i)+'.png'\n",
    "#       url_list.append(string)\n",
    "#   return url_list"
   ]
  },
  {
   "cell_type": "code",
   "execution_count": null,
   "id": "47452e3a-a99f-4d06-9d55-50cfd81fea8b",
   "metadata": {},
   "outputs": [],
   "source": [
    "def local_file_list_generator(path):\n",
    "  files = os.listdir(path)\n",
    "  return [path+f for f in files]"
   ]
  },
  {
   "cell_type": "code",
   "execution_count": null,
   "id": "9acc9426-d767-4e3f-b60e-2e3bc3f713d6",
   "metadata": {},
   "outputs": [],
   "source": [
    "def string_to_matrices(string, max_board_size=25):\n",
    "\n",
    "  def string_to_matrix(string,size_x,size_y):\n",
    "    array = np.array([int(elem) for elem in string.split(',')])\n",
    "    array = array.reshape(size_x,size_y)\n",
    "    array = np.pad(array,((0,max_board_size-size_x),(0,max_board_size-size_y)))\n",
    "    return array\n",
    "\n",
    "  size_split = string.split(':')\n",
    "  board_size = size_split.pop(0).split('x')\n",
    "  size_x,size_y = int(board_size[0]),int(board_size[1])\n",
    "  problem,solution = size_split[0].split('=')\n",
    "  problem,solution = string_to_matrix(problem,size_x,size_y),string_to_matrix(solution,size_x,size_y)\n",
    "  return problem,solution"
   ]
  },
  {
   "cell_type": "code",
   "execution_count": null,
   "id": "e3cd6a84-cc64-436a-a62f-20220b00290c",
   "metadata": {},
   "outputs": [],
   "source": [
    "##### Parse files\n",
    "def parse_saved_files(max_board_size=25,file_list=[]):\n",
    "  files = file_list if file_list else ['data/image_parser_output.txt']\n",
    "  problems = []\n",
    "  solutions = []\n",
    "  for f in files:\n",
    "    levels = open(f, \"r\").read().splitlines()\n",
    "    for level in levels:\n",
    "      problem,solution = string_to_matrices(level,max_board_size=max_board_size)\n",
    "      problems.append(problem)\n",
    "      solutions.append(solution)\n",
    "  return problems,solutions"
   ]
  },
  {
   "cell_type": "code",
   "execution_count": null,
   "id": "69ed1d3d-c4f9-44a4-b4d2-b8925457586e",
   "metadata": {},
   "outputs": [],
   "source": [
    "packs = [\n",
    "        #('regular',1,150), \n",
    "         #('bonus',1,150), \n",
    "         #('green',1,150), \n",
    "        #('6mania',1,150),\n",
    "         #('7mania',1,150), \n",
    "         #('8mania',1,150),\n",
    "         #('9mania',1,150),\n",
    "         #('10mania',1,150),\n",
    "         #('11mania',1,150),\n",
    "         ('12mania',1,150),\n",
    "         ('13mania',1,150),\n",
    "         ('14mania',1,150),\n",
    "         #('rainbow',1,120),\n",
    "         ('interval',1,150),\n",
    "         ('courtyard',1,150),\n",
    "         ('courtyardSpin',1,150),\n",
    "         ('pathway',1,150),\n",
    "         ('worm',1,150),\n",
    "         ('starField',1,150),#\n",
    "         # ('inkBlot',1,150),\n",
    "         ('scattered',1,150),\n",
    "        ]\n",
    "\n",
    "def pack_to_file(pack):\n",
    "    url_list = url_list_generator(pack)\n",
    "    pack_type = pack[0]\n",
    "    output_file = pathlib.Path(PROJ_ROOT, \"data\", f\"{pack_type}.txt\")\n",
    "    export_to_file(url_list, output_file)\n",
    "\n",
    "# for pack in packs:\n",
    "#     pack_to_file(pack)"
   ]
  },
  {
   "cell_type": "code",
   "execution_count": null,
   "id": "09ff720a-11e9-4423-9c34-0a2169190bea",
   "metadata": {},
   "outputs": [],
   "source": [
    "import multiprocessing\n",
    "# Create a pool of worker processes\n",
    "pool = multiprocessing.Pool()\n",
    "\n",
    "# Map the pack_to_file function to each element in the packs list\n",
    "# This will execute pack_to_file in parallel with different arguments\n",
    "pool.map(pack_to_file, packs)\n",
    "\n",
    "# Close the pool to free up resources\n",
    "pool.close()\n",
    "# Wait for all processes to complete\n",
    "pool.join()"
   ]
  }
 ],
 "metadata": {
  "kernelspec": {
   "display_name": "Python 3 (ipykernel)",
   "language": "python",
   "name": "python3"
  },
  "language_info": {
   "codemirror_mode": {
    "name": "ipython",
    "version": 3
   },
   "file_extension": ".py",
   "mimetype": "text/x-python",
   "name": "python",
   "nbconvert_exporter": "python",
   "pygments_lexer": "ipython3",
   "version": "3.10.12"
  }
 },
 "nbformat": 4,
 "nbformat_minor": 5
}
