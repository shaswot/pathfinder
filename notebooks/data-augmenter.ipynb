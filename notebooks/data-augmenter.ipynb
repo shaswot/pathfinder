{
 "cells": [
  {
   "cell_type": "code",
   "execution_count": null,
   "id": "3b32acc3-9b20-4270-8c18-e15c04a9cc9d",
   "metadata": {},
   "outputs": [],
   "source": [
    "# https://towardsdatascience.com/deep-learning-vs-puzzle-games-e996feb76162abs\n",
    "# https://github.com/kgaspard/flow-free-ai"
   ]
  }
 ],
 "metadata": {
  "kernelspec": {
   "display_name": "Python 3 (ipykernel)",
   "language": "python",
   "name": "python3"
  },
  "language_info": {
   "codemirror_mode": {
    "name": "ipython",
    "version": 3
   },
   "file_extension": ".py",
   "mimetype": "text/x-python",
   "name": "python",
   "nbconvert_exporter": "python",
   "pygments_lexer": "ipython3",
   "version": "3.10.12"
  }
 },
 "nbformat": 4,
 "nbformat_minor": 5
}
