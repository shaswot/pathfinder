{
 "cells": [
  {
   "cell_type": "code",
   "execution_count": 1,
   "id": "3b32acc3-9b20-4270-8c18-e15c04a9cc9d",
   "metadata": {},
   "outputs": [],
   "source": [
    "# https://towardsdatascience.com/deep-learning-vs-puzzle-games-e996feb76162abs\n",
    "# https://github.com/kgaspard/flow-free-ai"
   ]
  },
  {
   "cell_type": "code",
   "execution_count": 2,
   "id": "e429dd72-94bd-4c55-bdec-eac95d083b78",
   "metadata": {},
   "outputs": [],
   "source": [
    "# solution visualizer"
   ]
  },
  {
   "cell_type": "code",
   "execution_count": 3,
   "id": "d4572f66-3dc6-46dd-93b0-44af1b065950",
   "metadata": {},
   "outputs": [],
   "source": [
    "# solution sanity checker"
   ]
  },
  {
   "cell_type": "code",
   "execution_count": 4,
   "id": "21bea1b8-b2ec-42b0-a83c-b83da3282fff",
   "metadata": {},
   "outputs": [],
   "source": [
    "import os\n",
    "import sys\n",
    "import git\n",
    "import pathlib"
   ]
  },
  {
   "cell_type": "code",
   "execution_count": 5,
   "id": "24185177-cf3d-442c-ac33-669ee2757974",
   "metadata": {},
   "outputs": [
    {
     "name": "stdout",
     "output_type": "stream",
     "text": [
      "/repos/pathfinder\n"
     ]
    }
   ],
   "source": [
    "PROJ_ROOT_PATH = pathlib.Path(git.Repo('.', search_parent_directories=True).working_tree_dir)\n",
    "PROJ_ROOT =  str(PROJ_ROOT_PATH)\n",
    "if PROJ_ROOT not in sys.path:\n",
    "    sys.path.append(PROJ_ROOT)\n",
    "print(PROJ_ROOT)  "
   ]
  },
  {
   "cell_type": "code",
   "execution_count": 6,
   "id": "12c32d40-068a-4df6-9f68-5525f54e7fef",
   "metadata": {},
   "outputs": [],
   "source": [
    "import re\n",
    "import numpy as np\n",
    "import matplotlib.colors as cm\n",
    "import matplotlib.pyplot as plt"
   ]
  },
  {
   "cell_type": "code",
   "execution_count": 7,
   "id": "609ff6c0-1846-4c47-a7a1-7aa5b3be84e0",
   "metadata": {},
   "outputs": [
    {
     "data": {
      "text/plain": [
       "PosixPath('/repos/pathfinder/data')"
      ]
     },
     "execution_count": 7,
     "metadata": {},
     "output_type": "execute_result"
    }
   ],
   "source": [
    "data_folder = pathlib.Path(PROJ_ROOT, \"data\")\n",
    "data_folder"
   ]
  },
  {
   "cell_type": "code",
   "execution_count": 8,
   "id": "c497e447-e978-4386-b605-be2ca7f6b1db",
   "metadata": {},
   "outputs": [],
   "source": [
    "filename = \"five.txt\"\n",
    "file = pathlib.Path(data_folder, filename)"
   ]
  },
  {
   "cell_type": "code",
   "execution_count": 9,
   "id": "d8a7e23a-0fe6-412f-8197-48dbd55a1e4d",
   "metadata": {},
   "outputs": [],
   "source": [
    "# removing the new line characters\n",
    "with open(file) as f:\n",
    "    lines = [line.rstrip() for line in f]"
   ]
  },
  {
   "cell_type": "code",
   "execution_count": 10,
   "id": "a4427d4c-7092-4157-afba-8178c00dabe9",
   "metadata": {},
   "outputs": [],
   "source": [
    "set0 = lines[0]"
   ]
  },
  {
   "cell_type": "code",
   "execution_count": 11,
   "id": "8abbcb46-ff44-4246-9658-0d2bc6a4c93b",
   "metadata": {},
   "outputs": [
    {
     "name": "stdout",
     "output_type": "stream",
     "text": [
      "5\n"
     ]
    }
   ],
   "source": [
    "size = set0.split(';')[0]\n",
    "print(size)"
   ]
  },
  {
   "cell_type": "code",
   "execution_count": 12,
   "id": "9b36e3fb-58f6-4bf8-a67f-ef5efa3960c2",
   "metadata": {},
   "outputs": [
    {
     "data": {
      "text/plain": [
       "'5;1:1;5:4;3:3;1:2;2:4;3:2;4:2;5:5=1:1;2:1;3:1;4:1;5:1;5:2;5:3;5:4|3:3;3:4;3:5;2:5;1:5;1:4;1:3;1:2|2:4;2:3;2:2;3:2|4:2;4:3;4:4;4:5;5:5'"
      ]
     },
     "execution_count": 12,
     "metadata": {},
     "output_type": "execute_result"
    }
   ],
   "source": [
    "set0"
   ]
  },
  {
   "cell_type": "code",
   "execution_count": 13,
   "id": "8631c746-393e-4f85-a125-7149475fe193",
   "metadata": {},
   "outputs": [],
   "source": [
    "problem_, solution = set0.split(\"=\")\n",
    "# Find the index of the first semicolon to ignore the first entry which gives the size of the problem\n",
    "semicolon_index = problem_.find(';')\n",
    "# Extract the substring after the first semicolon\n",
    "problem = problem_[semicolon_index + 1:]"
   ]
  },
  {
   "cell_type": "code",
   "execution_count": 14,
   "id": "66447b3a-4bd1-4a16-8839-2ab317ee1d25",
   "metadata": {},
   "outputs": [
    {
     "data": {
      "text/plain": [
       "'1:1;5:4;3:3;1:2;2:4;3:2;4:2;5:5'"
      ]
     },
     "execution_count": 14,
     "metadata": {},
     "output_type": "execute_result"
    }
   ],
   "source": [
    "problem"
   ]
  },
  {
   "cell_type": "code",
   "execution_count": 15,
   "id": "721b182f-7f3c-44ed-b301-d8a90c35ff99",
   "metadata": {},
   "outputs": [
    {
     "data": {
      "text/plain": [
       "'1:1;2:1;3:1;4:1;5:1;5:2;5:3;5:4|3:3;3:4;3:5;2:5;1:5;1:4;1:3;1:2|2:4;2:3;2:2;3:2|4:2;4:3;4:4;4:5;5:5'"
      ]
     },
     "execution_count": 15,
     "metadata": {},
     "output_type": "execute_result"
    }
   ],
   "source": [
    "solution"
   ]
  },
  {
   "cell_type": "code",
   "execution_count": 16,
   "id": "6e5f3b3d-16dd-4c34-b829-7decf6fd4c5c",
   "metadata": {},
   "outputs": [],
   "source": [
    "# Split the string using ';' delimiter\n",
    "elements = problem.split(';')\n",
    "# Group the elements in pairs\n",
    "subproblem_keys = [f'{elements[i]};{elements[i+1]}' for i in range(0, len(elements)-1, 2)]"
   ]
  },
  {
   "cell_type": "code",
   "execution_count": 18,
   "id": "be26bff9-be82-4aec-8cb4-2d37e20fb9be",
   "metadata": {},
   "outputs": [
    {
     "data": {
      "text/plain": [
       "['1:1;5:4', '3:3;1:2', '2:4;3:2', '4:2;5:5']"
      ]
     },
     "execution_count": 18,
     "metadata": {},
     "output_type": "execute_result"
    }
   ],
   "source": [
    "subproblem_keys"
   ]
  },
  {
   "cell_type": "code",
   "execution_count": 19,
   "id": "f7a1737e-2d2e-4463-906a-759d97983b75",
   "metadata": {},
   "outputs": [],
   "source": [
    "subsolutions_entries = solution.split(\"|\") "
   ]
  },
  {
   "cell_type": "code",
   "execution_count": 20,
   "id": "5d81aef7-475e-4402-a03e-80b204185780",
   "metadata": {},
   "outputs": [],
   "source": [
    "set0_dict = dict(zip(subproblem_keys, subsolutions_entries))"
   ]
  },
  {
   "cell_type": "code",
   "execution_count": 21,
   "id": "08ed424c-a895-4393-8d04-bc761454e6a1",
   "metadata": {},
   "outputs": [],
   "source": [
    "def has_duplicate_coordinates(dictionary):\n",
    "    \"\"\"Check if there is any overlap between solutions, \n",
    "    i.e., no coordinate appears twice in solutions\"\"\"\n",
    "    seen_coordinates = set()\n",
    "\n",
    "    for value in dictionary.values():\n",
    "        coordinates = value.split(';')\n",
    "        for coordinate in coordinates:\n",
    "            if coordinate in seen_coordinates:\n",
    "                return True\n",
    "            seen_coordinates.add(coordinate)\n",
    "\n",
    "    return False"
   ]
  },
  {
   "cell_type": "code",
   "execution_count": 22,
   "id": "61b266bb-fbc8-426a-9b01-b8e361042cf4",
   "metadata": {},
   "outputs": [],
   "source": [
    "def check_match(dictionary):\n",
    "    \"\"\"Check if the start and end points of the problem matches with the solution\"\"\"\n",
    "    for key, value in dictionary.items():\n",
    "        key_parts = key.split(';')\n",
    "        value_parts = value.split(';')\n",
    "        # Check if the first and last parts match between key and entry\n",
    "        if key_parts[0] != value_parts[0] or key_parts[-1] != value_parts[-1]:\n",
    "            return False\n",
    "    return True"
   ]
  },
  {
   "cell_type": "code",
   "execution_count": 23,
   "id": "53b5748a-592f-4220-b48d-130be9f85f05",
   "metadata": {},
   "outputs": [
    {
     "data": {
      "text/plain": [
       "{'1:1;5:4': '1:1;2:1;3:1;4:1;5:1;5:2;5:3;5:4',\n",
       " '3:3;1:2': '3:3;3:4;3:5;2:5;1:5;1:4;1:3;1:2',\n",
       " '2:4;3:2': '2:4;2:3;2:2;3:2',\n",
       " '4:2;5:5': '4:2;4:3;4:4;4:5;5:5'}"
      ]
     },
     "execution_count": 23,
     "metadata": {},
     "output_type": "execute_result"
    }
   ],
   "source": [
    "set0_dict"
   ]
  },
  {
   "cell_type": "code",
   "execution_count": 25,
   "id": "7e3df322-f334-4cfd-bae7-d80161cfbe4f",
   "metadata": {},
   "outputs": [],
   "source": [
    "def get_problem_size(dictionary):\n",
    "    \"\"\"Find the N for a NxN problem\"\"\"\n",
    "    # Extract integers from dictionary values and find the largest integer\n",
    "    all_integers = set([int(num) for value in dictionary.values() for num in re.split(';|:', value)])\n",
    "    largest_integer = max(all_integers)\n",
    "    return largest_integer\n",
    "    "
   ]
  },
  {
   "cell_type": "code",
   "execution_count": 26,
   "id": "755d827a-8d1e-4d02-b310-ac8f0feacfd5",
   "metadata": {},
   "outputs": [],
   "source": [
    "# Visualize the problem-solution set\n",
    "def visualize_freeflow(dictionary):\n",
    "\n",
    "    # Get the size of the problem\n",
    "    size = get_problem_size(dictionary)\n",
    "\n",
    "    # Define colors\n",
    "    colors = [cm.to_hex(plt.cm.tab20(i)) for i in range(20)]\n",
    "    # colors = ['r', 'k', 'y', 'g', 'b', 'm', 'c',]\n",
    "    fig, ax = plt.subplots()\n",
    "    ax.set_xticks(range(1,size+1,1),range(1,size+1,1))\n",
    "    ax.set_yticks(range(1,size+1,1),range(1,size+1,1))\n",
    "    \n",
    "    # print start-end points\n",
    "    for i,endpointpairs in enumerate(dictionary.keys()):\n",
    "        endpoint_coordinates = endpointpairs.split(';')\n",
    "        x_coordinates, y_coordinates = zip(*(map(int, coord.split(':')) for coord in endpoint_coordinates))\n",
    "        \n",
    "        # Plot the start point\n",
    "        ax.plot(x_coordinates[0], y_coordinates[0], marker='o', markersize=10, color = colors[i % len(colors)])\n",
    "        # Plot the end point\n",
    "        ax.plot(x_coordinates[-1], y_coordinates[-1], marker='s',  markersize=10, color = colors[i % len(colors)])\n",
    "    \n",
    "    # print paths\n",
    "    for i, solution_path in enumerate(dictionary.values()):\n",
    "        path_coordinates = solution_path.split(';')\n",
    "        \n",
    "        # Extract x and y coordinates from the string\n",
    "        x_coordinates, y_coordinates = zip(*(map(int, coord.split(':')) for coord in path_coordinates))\n",
    "        \n",
    "        # Plot the line\n",
    "        ax.plot(x_coordinates, y_coordinates, linestyle='-', linewidth=5, color = colors[i % len(colors)])\n",
    "        \n",
    "       \n",
    "    # Display the plot\n",
    "    ax.set_aspect('equal', adjustable='datalim')\n",
    "    plt.grid(visible=True)\n",
    "    plt.show()\n"
   ]
  },
  {
   "cell_type": "code",
   "execution_count": 27,
   "id": "a48ebff3-6dec-4aea-9f71-56d399543a01",
   "metadata": {},
   "outputs": [
    {
     "data": {
      "image/png": "[encoded data removed]",
      "text/plain": [
       "<Figure size 640x480 with 1 Axes>"
      ]
     },
     "metadata": {},
     "output_type": "display_data"
    }
   ],
   "source": [
    "visualize_freeflow(set0_dict)"
   ]
  },
  {
   "cell_type": "code",
   "execution_count": 28,
   "id": "e3146260-b385-453e-b955-74baa43ae632",
   "metadata": {},
   "outputs": [],
   "source": [
    "def flip_about_origin(point, orientation):\n",
    "    x, y = point\n",
    "    if orientation == 'h':\n",
    "        y_flipped = - y\n",
    "        x_flipped = x\n",
    "    elif orientation == 'v':\n",
    "        y_flipped = y\n",
    "        x_flipped = -x\n",
    "    else:\n",
    "        print(\"Wrong orientation. Valid types are 'h' or 'v'\")\n",
    "\n",
    "    return x_flipped, y_flipped\n",
    "    \n",
    "def rotate_point_about_origin(point, angle):\n",
    "    x, y = point\n",
    "    x_rotated = x * np.cos(angle) - y * np.sin(angle)\n",
    "    y_rotated = x * np.sin(angle) + y * np.cos(angle)\n",
    "    return x_rotated, y_rotated\n",
    "\n",
    "def translate_to_origin(size, point):\n",
    "    x, y = point\n",
    "    return (x-(size+1)/2, y-(size+1)/2)\n",
    "\n",
    "def translate_back(size, point):\n",
    "    x, y = point\n",
    "    return (int(round((x+(size+1)/2))), int(round(y+(size+1)/2)))"
   ]
  },
  {
   "cell_type": "code",
   "execution_count": 29,
   "id": "8290a377-eb1b-4eb8-8b8f-6de4a6545805",
   "metadata": {},
   "outputs": [],
   "source": [
    "def flip_soln(dictionary, orientation):\n",
    "    # check if the key entries match with the first and last entries of value esubsolutions_entries\n",
    "    check_match(dictionary)\n",
    "\n",
    "    # Get the size of the problem\n",
    "    size = get_problem_size(dictionary)\n",
    "\n",
    "    # keys and values for new dictonary\n",
    "    keys = []\n",
    "    values = []\n",
    "    \n",
    "    # Transform all coordinates\n",
    "    for i, solution_path in enumerate(dictionary.values()):\n",
    "        new_path_points = []\n",
    "        for path_coord in solution_path.split(';'):\n",
    "            point = list(map(int, path_coord.split(':')))\n",
    "            temp_point = translate_to_origin(size, point)\n",
    "            temp_point = flip_about_origin(temp_point, orientation)\n",
    "            temp_point = translate_back(size, temp_point)\n",
    "            new_path_points.append(temp_point)\n",
    "\n",
    "        # Convert the path point coordinates to the dictionary value entry format\n",
    "        value_entry = ';'.join(f'{x}:{y}' for x, y in new_path_points)\n",
    "        values.append(value_entry)\n",
    "            \n",
    "        # Convert the path point coordinates to the dictionary key entry format\n",
    "        endpoints = [new_path_points[0], new_path_points[-1]]\n",
    "        key_entry = ';'.join(f'{x}:{y}' for x, y in endpoints)\n",
    "        keys.append(key_entry)\n",
    "   \n",
    "    return dict(zip(keys,values))"
   ]
  },
  {
   "cell_type": "code",
   "execution_count": 30,
   "id": "2aa7cd59-6bdc-4243-91c2-48c49c4a6a86",
   "metadata": {},
   "outputs": [],
   "source": [
    "def rotate_soln_by_90(dictionary):\n",
    "    # check if the key entries match with the first and last entries of value esubsolutions_entries\n",
    "    check_match(dictionary)\n",
    "\n",
    "    # Get the size of the problem\n",
    "    size = get_problem_size(dictionary)\n",
    "\n",
    "    # keys and values for new dictonary\n",
    "    keys = []\n",
    "    values = []\n",
    "    \n",
    "    # Transform all coordinates\n",
    "    for i, solution_path in enumerate(dictionary.values()):\n",
    "        new_path_points = []\n",
    "        for path_coord in solution_path.split(';'):\n",
    "            point = list(map(int, path_coord.split(':')))\n",
    "            temp_point = translate_to_origin(size, point)\n",
    "            temp_point = rotate_point_about_origin(temp_point, np.radians(90))\n",
    "            temp_point = translate_back(size, temp_point)\n",
    "            new_path_points.append(temp_point)\n",
    "\n",
    "        # Convert the path point coordinates to the dictionary value entry format\n",
    "        value_entry = ';'.join(f'{x}:{y}' for x, y in new_path_points)\n",
    "        values.append(value_entry)\n",
    "            \n",
    "        # Convert the path point coordinates to the dictionary key entry format\n",
    "        endpoints = [new_path_points[0], new_path_points[-1]]\n",
    "        key_entry = ';'.join(f'{x}:{y}' for x, y in endpoints)\n",
    "        keys.append(key_entry)\n",
    "   \n",
    "    return dict(zip(keys,values))"
   ]
  },
  {
   "cell_type": "code",
   "execution_count": 31,
   "id": "bd761896-f400-4999-9fa6-7a8fb073456c",
   "metadata": {},
   "outputs": [
    {
     "data": {
      "image/png": "[encoded data removed]",
      "text/plain": [
       "<Figure size 640x480 with 1 Axes>"
      ]
     },
     "metadata": {},
     "output_type": "display_data"
    }
   ],
   "source": [
    "visualize_freeflow(set0_dict)"
   ]
  },
  {
   "cell_type": "code",
   "execution_count": 32,
   "id": "41d2a810-047b-417f-ae07-173606def3de",
   "metadata": {},
   "outputs": [
    {
     "data": {
      "image/png": "[encoded data removed]",
      "text/plain": [
       "<Figure size 640x480 with 1 Axes>"
      ]
     },
     "metadata": {},
     "output_type": "display_data"
    }
   ],
   "source": [
    "rot_set = rotate_soln_by_90(set0_dict)\n",
    "visualize_freeflow(rot_set)"
   ]
  },
  {
   "cell_type": "code",
   "execution_count": 33,
   "id": "8d24d03e-0f5b-49d7-93f1-6338f346babe",
   "metadata": {},
   "outputs": [
    {
     "data": {
      "image/png": "[encoded data removed]",
      "text/plain": [
       "<Figure size 640x480 with 1 Axes>"
      ]
     },
     "metadata": {},
     "output_type": "display_data"
    }
   ],
   "source": [
    "rot2_set = rotate_soln_by_90(rot_set)\n",
    "visualize_freeflow(rot2_set)"
   ]
  },
  {
   "cell_type": "code",
   "execution_count": 34,
   "id": "f6dceba6-6981-44af-812b-f522571c0202",
   "metadata": {},
   "outputs": [
    {
     "data": {
      "image/png": "[encoded data removed]",
      "text/plain": [
       "<Figure size 640x480 with 1 Axes>"
      ]
     },
     "metadata": {},
     "output_type": "display_data"
    }
   ],
   "source": [
    "rot3_set = rotate_soln_by_90(rot2_set)\n",
    "visualize_freeflow(rot3_set)"
   ]
  },
  {
   "cell_type": "code",
   "execution_count": 35,
   "id": "a2ac0cf8-a5b1-4f88-9d0d-5f56ac552dc3",
   "metadata": {},
   "outputs": [
    {
     "data": {
      "image/png": "[encoded data removed]",
      "text/plain": [
       "<Figure size 640x480 with 1 Axes>"
      ]
     },
     "metadata": {},
     "output_type": "display_data"
    }
   ],
   "source": [
    "rot4_set = rotate_soln_by_90(rot3_set)\n",
    "visualize_freeflow(rot4_set)"
   ]
  },
  {
   "cell_type": "code",
   "execution_count": 36,
   "id": "a035aa72-5507-4db5-be6f-85a73d85304c",
   "metadata": {},
   "outputs": [
    {
     "data": {
      "image/png": "[encoded data removed]",
      "text/plain": [
       "<Figure size 640x480 with 1 Axes>"
      ]
     },
     "metadata": {},
     "output_type": "display_data"
    }
   ],
   "source": [
    "flip_set = flip_soln(set0_dict, 'h')\n",
    "visualize_freeflow(flip_set)"
   ]
  },
  {
   "cell_type": "code",
   "execution_count": 37,
   "id": "8a83c09d-9db3-4574-8c6b-f6f09657d49b",
   "metadata": {},
   "outputs": [
    {
     "data": {
      "image/png": "[encoded data removed]",
      "text/plain": [
       "<Figure size 640x480 with 1 Axes>"
      ]
     },
     "metadata": {},
     "output_type": "display_data"
    }
   ],
   "source": [
    "flip_set = flip_soln(set0_dict, 'v')\n",
    "visualize_freeflow(flip_set)"
   ]
  },
  {
   "cell_type": "code",
   "execution_count": null,
   "id": "bb30917c-88b7-4445-ad37-8c9cda732986",
   "metadata": {},
   "outputs": [],
   "source": []
  }
 ],
 "metadata": {
  "kernelspec": {
   "display_name": "Python 3 (ipykernel)",
   "language": "python",
   "name": "python3"
  },
  "language_info": {
   "codemirror_mode": {
    "name": "ipython",
    "version": 3
   },
   "file_extension": ".py",
   "mimetype": "text/x-python",
   "name": "python",
   "nbconvert_exporter": "python",
   "pygments_lexer": "ipython3",
   "version": "3.10.12"
  }
 },
 "nbformat": 4,
 "nbformat_minor": 5
}
