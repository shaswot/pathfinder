{
 "cells": [
  {
   "cell_type": "code",
   "execution_count": null,
   "id": "3b32acc3-9b20-4270-8c18-e15c04a9cc9d",
   "metadata": {},
   "outputs": [],
   "source": [
    "# https://towardsdatascience.com/deep-learning-vs-puzzle-games-e996feb76162abs\n",
    "# https://github.com/kgaspard/flow-free-ai"
   ]
  },
  {
   "cell_type": "code",
   "execution_count": null,
   "id": "e429dd72-94bd-4c55-bdec-eac95d083b78",
   "metadata": {},
   "outputs": [],
   "source": [
    "# solution visualizer"
   ]
  },
  {
   "cell_type": "code",
   "execution_count": null,
   "id": "d4572f66-3dc6-46dd-93b0-44af1b065950",
   "metadata": {},
   "outputs": [],
   "source": [
    "# solution sanity checker"
   ]
  },
  {
   "cell_type": "code",
   "execution_count": 1,
   "id": "21bea1b8-b2ec-42b0-a83c-b83da3282fff",
   "metadata": {},
   "outputs": [],
   "source": [
    "import os\n",
    "import sys\n",
    "import git\n",
    "import pathlib"
   ]
  },
  {
   "cell_type": "code",
   "execution_count": 2,
   "id": "24185177-cf3d-442c-ac33-669ee2757974",
   "metadata": {},
   "outputs": [],
   "source": [
    "PROJ_ROOT_PATH = pathlib.Path(git.Repo('.', search_parent_directories=True).working_tree_dir)\n",
    "PROJ_ROOT =  str(PROJ_ROOT_PATH)\n",
    "if PROJ_ROOT not in sys.path:\n",
    "    sys.path.append(PROJ_ROOT)\n",
    "print(PROJ_ROOT)  "
   ]
  },
  {
   "cell_type": "code",
   "execution_count": null,
   "id": "609ff6c0-1846-4c47-a7a1-7aa5b3be84e0",
   "metadata": {},
   "outputs": [],
   "source": [
    "data_folder = pathlib.Path(PROJ_ROOT, \"data\")\n",
    "data_folder"
   ]
  },
  {
   "cell_type": "code",
   "execution_count": 7,
   "id": "c497e447-e978-4386-b605-be2ca7f6b1db",
   "metadata": {},
   "outputs": [],
   "source": [
    "filename = \"five.txt\"\n",
    "file = pathlib.Path(data_folder, filename)"
   ]
  },
  {
   "cell_type": "code",
   "execution_count": 9,
   "id": "d8a7e23a-0fe6-412f-8197-48dbd55a1e4d",
   "metadata": {},
   "outputs": [],
   "source": [
    "# removing the new line characters\n",
    "with open(file) as f:\n",
    "    lines = [line.rstrip() for line in f]"
   ]
  },
  {
   "cell_type": "code",
   "execution_count": 12,
   "id": "a4427d4c-7092-4157-afba-8178c00dabe9",
   "metadata": {},
   "outputs": [],
   "source": [
    "set0 = lines[0]"
   ]
  },
  {
   "cell_type": "code",
   "execution_count": 14,
   "id": "8abbcb46-ff44-4246-9658-0d2bc6a4c93b",
   "metadata": {},
   "outputs": [
    {
     "name": "stdout",
     "output_type": "stream",
     "text": [
      "5\n"
     ]
    }
   ],
   "source": [
    "size = set0[0]\n",
    "print(size)"
   ]
  },
  {
   "cell_type": "code",
   "execution_count": 17,
   "id": "8631c746-393e-4f85-a125-7149475fe193",
   "metadata": {},
   "outputs": [],
   "source": [
    "problem, solution = set0[2:].split(\"=\") # ignore \"5;\""
   ]
  },
  {
   "cell_type": "code",
   "execution_count": 18,
   "id": "4890dfb6-8048-45a4-ab28-0edae3ad950d",
   "metadata": {},
   "outputs": [
    {
     "data": {
      "text/plain": [
       "'1:1;5:4;3:3;1:2;2:4;3:2;4:2;5:5'"
      ]
     },
     "execution_count": 18,
     "metadata": {},
     "output_type": "execute_result"
    }
   ],
   "source": [
    "problem"
   ]
  },
  {
   "cell_type": "code",
   "execution_count": 19,
   "id": "75964a28-1cc9-488b-8128-6615461e0adc",
   "metadata": {},
   "outputs": [
    {
     "data": {
      "text/plain": [
       "'1:1;2:1;3:1;4:1;5:1;5:2;5:3;5:4|3:3;3:4;3:5;2:5;1:5;1:4;1:3;1:2|2:4;2:3;2:2;3:2|4:2;4:3;4:4;4:5;5:5'"
      ]
     },
     "execution_count": 19,
     "metadata": {},
     "output_type": "execute_result"
    }
   ],
   "source": [
    "solution"
   ]
  },
  {
   "cell_type": "code",
   "execution_count": 23,
   "id": "a77b194b-76f8-4188-9828-2c420c5cb7e3",
   "metadata": {},
   "outputs": [],
   "source": [
    "import re\n",
    "# Group substrings based on the specified pattern and create subproblem\n",
    "subproblem = re.compile(r\"\\d:\\d;\\d:\\d\") # search pattern: <decimal_digit:decimal_digit;decimal_digit:decimal_digit>\n",
    "subproblem_keys = subproblem.findall(problem)"
   ]
  },
  {
   "cell_type": "code",
   "execution_count": 25,
   "id": "f7a1737e-2d2e-4463-906a-759d97983b75",
   "metadata": {},
   "outputs": [],
   "source": [
    "subsolutions_entries = solution.split(\"|\") "
   ]
  },
  {
   "cell_type": "code",
   "execution_count": 27,
   "id": "5d81aef7-475e-4402-a03e-80b204185780",
   "metadata": {},
   "outputs": [],
   "source": [
    "set0_dict = dict(zip(subproblem_keys, subsolutions_entries))"
   ]
  },
  {
   "cell_type": "code",
   "execution_count": 28,
   "id": "61b266bb-fbc8-426a-9b01-b8e361042cf4",
   "metadata": {},
   "outputs": [
    {
     "data": {
      "text/plain": [
       "{'1:1;5:4': '1:1;2:1;3:1;4:1;5:1;5:2;5:3;5:4',\n",
       " '3:3;1:2': '3:3;3:4;3:5;2:5;1:5;1:4;1:3;1:2',\n",
       " '2:4;3:2': '2:4;2:3;2:2;3:2',\n",
       " '4:2;5:5': '4:2;4:3;4:4;4:5;5:5'}"
      ]
     },
     "execution_count": 28,
     "metadata": {},
     "output_type": "execute_result"
    }
   ],
   "source": [
    "def set_check(probl_soln_set_dict: dict):\n",
    "    \"\"\"Check if the solution matches the problem\"\"\"\n",
    "    for key, value in \n",
    "    return\n",
    "    \n",
    "set0_dict"
   ]
  },
  {
   "cell_type": "code",
   "execution_count": null,
   "id": "dcf35cee-5c66-4cce-8bab-d4306fee707f",
   "metadata": {},
   "outputs": [],
   "source": []
  }
 ],
 "metadata": {
  "kernelspec": {
   "display_name": "Python 3 (ipykernel)",
   "language": "python",
   "name": "python3"
  },
  "language_info": {
   "codemirror_mode": {
    "name": "ipython",
    "version": 3
   },
   "file_extension": ".py",
   "mimetype": "text/x-python",
   "name": "python",
   "nbconvert_exporter": "python",
   "pygments_lexer": "ipython3",
   "version": "3.10.12"
  }
 },
 "nbformat": 4,
 "nbformat_minor": 5
}
